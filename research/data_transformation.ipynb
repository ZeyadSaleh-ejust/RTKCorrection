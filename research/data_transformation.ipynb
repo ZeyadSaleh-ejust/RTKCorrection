{
 "cells": [
  {
   "cell_type": "code",
   "execution_count": 5,
   "id": "2e8773fc",
   "metadata": {},
   "outputs": [
    {
     "data": {
      "text/plain": [
       "'F:\\\\zizo\\\\RTKCorrection'"
      ]
     },
     "execution_count": 5,
     "metadata": {},
     "output_type": "execute_result"
    }
   ],
   "source": [
    "import os\n",
    "os.chdir(\"F:\\zizo\\RTKCorrection\")\n",
    "%pwd"
   ]
  },
  {
   "cell_type": "code",
   "execution_count": 6,
   "id": "b87fe2a8",
   "metadata": {},
   "outputs": [
    {
     "data": {
      "text/html": [
       "<div>\n",
       "<style scoped>\n",
       "    .dataframe tbody tr th:only-of-type {\n",
       "        vertical-align: middle;\n",
       "    }\n",
       "\n",
       "    .dataframe tbody tr th {\n",
       "        vertical-align: top;\n",
       "    }\n",
       "\n",
       "    .dataframe thead th {\n",
       "        text-align: right;\n",
       "    }\n",
       "</style>\n",
       "<table border=\"1\" class=\"dataframe\">\n",
       "  <thead>\n",
       "    <tr style=\"text-align: right;\">\n",
       "      <th></th>\n",
       "      <th>SatelliteID</th>\n",
       "      <th>C1C</th>\n",
       "      <th>L1C</th>\n",
       "      <th>D1C</th>\n",
       "      <th>S1C</th>\n",
       "      <th>GPST_seconds</th>\n",
       "    </tr>\n",
       "  </thead>\n",
       "  <tbody>\n",
       "    <tr>\n",
       "      <th>0</th>\n",
       "      <td>4.0</td>\n",
       "      <td>2.183553e+07</td>\n",
       "      <td>1.147465e+08</td>\n",
       "      <td>-2062.373</td>\n",
       "      <td>44.0</td>\n",
       "      <td>15568</td>\n",
       "    </tr>\n",
       "    <tr>\n",
       "      <th>1</th>\n",
       "      <td>7.0</td>\n",
       "      <td>2.403299e+07</td>\n",
       "      <td>1.262942e+08</td>\n",
       "      <td>1800.175</td>\n",
       "      <td>46.0</td>\n",
       "      <td>15568</td>\n",
       "    </tr>\n",
       "    <tr>\n",
       "      <th>2</th>\n",
       "      <td>8.0</td>\n",
       "      <td>2.177553e+07</td>\n",
       "      <td>1.144312e+08</td>\n",
       "      <td>975.683</td>\n",
       "      <td>46.0</td>\n",
       "      <td>15568</td>\n",
       "    </tr>\n",
       "    <tr>\n",
       "      <th>3</th>\n",
       "      <td>9.0</td>\n",
       "      <td>2.159508e+07</td>\n",
       "      <td>1.134829e+08</td>\n",
       "      <td>541.655</td>\n",
       "      <td>49.0</td>\n",
       "      <td>15568</td>\n",
       "    </tr>\n",
       "    <tr>\n",
       "      <th>4</th>\n",
       "      <td>27.0</td>\n",
       "      <td>2.263255e+07</td>\n",
       "      <td>1.189348e+08</td>\n",
       "      <td>-1535.173</td>\n",
       "      <td>46.0</td>\n",
       "      <td>15568</td>\n",
       "    </tr>\n",
       "  </tbody>\n",
       "</table>\n",
       "</div>"
      ],
      "text/plain": [
       "   SatelliteID           C1C           L1C       D1C   S1C  GPST_seconds\n",
       "0          4.0  2.183553e+07  1.147465e+08 -2062.373  44.0         15568\n",
       "1          7.0  2.403299e+07  1.262942e+08  1800.175  46.0         15568\n",
       "2          8.0  2.177553e+07  1.144312e+08   975.683  46.0         15568\n",
       "3          9.0  2.159508e+07  1.134829e+08   541.655  49.0         15568\n",
       "4         27.0  2.263255e+07  1.189348e+08 -1535.173  46.0         15568"
      ]
     },
     "execution_count": 6,
     "metadata": {},
     "output_type": "execute_result"
    }
   ],
   "source": [
    "import pandas as pd\n",
    "df1 = pd.read_csv(\"data/input_preprocesed.csv\")\n",
    "df2 = pd.read_csv(\"data/corrected_positions.csv\")\n",
    "df1.head()"
   ]
  },
  {
   "cell_type": "code",
   "execution_count": 7,
   "id": "b4ef92d9",
   "metadata": {},
   "outputs": [
    {
     "data": {
      "text/html": [
       "<div>\n",
       "<style scoped>\n",
       "    .dataframe tbody tr th:only-of-type {\n",
       "        vertical-align: middle;\n",
       "    }\n",
       "\n",
       "    .dataframe tbody tr th {\n",
       "        vertical-align: top;\n",
       "    }\n",
       "\n",
       "    .dataframe thead th {\n",
       "        text-align: right;\n",
       "    }\n",
       "</style>\n",
       "<table border=\"1\" class=\"dataframe\">\n",
       "  <thead>\n",
       "    <tr style=\"text-align: right;\">\n",
       "      <th></th>\n",
       "      <th>Latitude</th>\n",
       "      <th>Longitude</th>\n",
       "      <th>Height</th>\n",
       "      <th>GPST_seconds</th>\n",
       "    </tr>\n",
       "  </thead>\n",
       "  <tbody>\n",
       "    <tr>\n",
       "      <th>0</th>\n",
       "      <td>27.682077</td>\n",
       "      <td>85.319258</td>\n",
       "      <td>1274.4728</td>\n",
       "      <td>15568</td>\n",
       "    </tr>\n",
       "    <tr>\n",
       "      <th>1</th>\n",
       "      <td>27.682035</td>\n",
       "      <td>85.319265</td>\n",
       "      <td>1255.8659</td>\n",
       "      <td>15569</td>\n",
       "    </tr>\n",
       "    <tr>\n",
       "      <th>2</th>\n",
       "      <td>27.682052</td>\n",
       "      <td>85.319251</td>\n",
       "      <td>1264.7933</td>\n",
       "      <td>15570</td>\n",
       "    </tr>\n",
       "    <tr>\n",
       "      <th>3</th>\n",
       "      <td>27.682024</td>\n",
       "      <td>85.319246</td>\n",
       "      <td>1249.0760</td>\n",
       "      <td>15571</td>\n",
       "    </tr>\n",
       "    <tr>\n",
       "      <th>4</th>\n",
       "      <td>27.681999</td>\n",
       "      <td>85.319208</td>\n",
       "      <td>1265.3450</td>\n",
       "      <td>15572</td>\n",
       "    </tr>\n",
       "  </tbody>\n",
       "</table>\n",
       "</div>"
      ],
      "text/plain": [
       "    Latitude  Longitude     Height  GPST_seconds\n",
       "0  27.682077  85.319258  1274.4728         15568\n",
       "1  27.682035  85.319265  1255.8659         15569\n",
       "2  27.682052  85.319251  1264.7933         15570\n",
       "3  27.682024  85.319246  1249.0760         15571\n",
       "4  27.681999  85.319208  1265.3450         15572"
      ]
     },
     "execution_count": 7,
     "metadata": {},
     "output_type": "execute_result"
    }
   ],
   "source": [
    "df2.head()"
   ]
  },
  {
   "cell_type": "code",
   "execution_count": 9,
   "id": "2aa24e8f",
   "metadata": {},
   "outputs": [
    {
     "data": {
      "text/plain": [
       "112082"
      ]
     },
     "execution_count": 9,
     "metadata": {},
     "output_type": "execute_result"
    }
   ],
   "source": [
    "df = pd.merge(df1, df2, on='GPST_seconds', how='left')\n",
    "len(df)"
   ]
  },
  {
   "cell_type": "code",
   "execution_count": null,
   "id": "ca39fbbd",
   "metadata": {},
   "outputs": [],
   "source": []
  }
 ],
 "metadata": {
  "kernelspec": {
   "display_name": "Python 3",
   "language": "python",
   "name": "python3"
  },
  "language_info": {
   "codemirror_mode": {
    "name": "ipython",
    "version": 3
   },
   "file_extension": ".py",
   "mimetype": "text/x-python",
   "name": "python",
   "nbconvert_exporter": "python",
   "pygments_lexer": "ipython3",
   "version": "3.10.18"
  }
 },
 "nbformat": 4,
 "nbformat_minor": 5
}
