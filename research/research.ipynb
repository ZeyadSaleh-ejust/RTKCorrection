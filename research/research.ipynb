{
 "cells": [
  {
   "cell_type": "code",
   "execution_count": 7,
   "id": "e84316ad",
   "metadata": {},
   "outputs": [
    {
     "data": {
      "text/plain": [
       "'f:\\\\zizo\\\\RTKCorrection\\\\research'"
      ]
     },
     "execution_count": 7,
     "metadata": {},
     "output_type": "execute_result"
    }
   ],
   "source": [
    "%pwd"
   ]
  },
  {
   "cell_type": "code",
   "execution_count": 8,
   "id": "b930972f",
   "metadata": {},
   "outputs": [
    {
     "data": {
      "text/plain": [
       "'f:\\\\zizo\\\\RTKCorrection'"
      ]
     },
     "execution_count": 8,
     "metadata": {},
     "output_type": "execute_result"
    }
   ],
   "source": [
    "import os\n",
    "os.chdir(\"../\")\n",
    "%pwd"
   ]
  },
  {
   "cell_type": "code",
   "execution_count": 9,
   "id": "f62807ae",
   "metadata": {},
   "outputs": [
    {
     "data": {
      "text/html": [
       "<div>\n",
       "<style scoped>\n",
       "    .dataframe tbody tr th:only-of-type {\n",
       "        vertical-align: middle;\n",
       "    }\n",
       "\n",
       "    .dataframe tbody tr th {\n",
       "        vertical-align: top;\n",
       "    }\n",
       "\n",
       "    .dataframe thead th {\n",
       "        text-align: right;\n",
       "    }\n",
       "</style>\n",
       "<table border=\"1\" class=\"dataframe\">\n",
       "  <thead>\n",
       "    <tr style=\"text-align: right;\">\n",
       "      <th></th>\n",
       "      <th>Time_seconds</th>\n",
       "      <th>SatelliteID</th>\n",
       "      <th>C1C</th>\n",
       "      <th>L1C</th>\n",
       "      <th>D1C</th>\n",
       "      <th>S1C</th>\n",
       "    </tr>\n",
       "  </thead>\n",
       "  <tbody>\n",
       "    <tr>\n",
       "      <th>0</th>\n",
       "      <td>15568.004</td>\n",
       "      <td>4</td>\n",
       "      <td>2.183553e+07</td>\n",
       "      <td>1.147465e+08</td>\n",
       "      <td>-2062.373</td>\n",
       "      <td>44</td>\n",
       "    </tr>\n",
       "    <tr>\n",
       "      <th>1</th>\n",
       "      <td>15568.004</td>\n",
       "      <td>7</td>\n",
       "      <td>2.403299e+07</td>\n",
       "      <td>1.262942e+08</td>\n",
       "      <td>1800.175</td>\n",
       "      <td>46</td>\n",
       "    </tr>\n",
       "    <tr>\n",
       "      <th>2</th>\n",
       "      <td>15568.004</td>\n",
       "      <td>8</td>\n",
       "      <td>2.177553e+07</td>\n",
       "      <td>1.144312e+08</td>\n",
       "      <td>975.683</td>\n",
       "      <td>46</td>\n",
       "    </tr>\n",
       "    <tr>\n",
       "      <th>3</th>\n",
       "      <td>15568.004</td>\n",
       "      <td>9</td>\n",
       "      <td>2.159508e+07</td>\n",
       "      <td>1.134829e+08</td>\n",
       "      <td>541.655</td>\n",
       "      <td>49</td>\n",
       "    </tr>\n",
       "    <tr>\n",
       "      <th>4</th>\n",
       "      <td>15568.004</td>\n",
       "      <td>27</td>\n",
       "      <td>2.263255e+07</td>\n",
       "      <td>1.189348e+08</td>\n",
       "      <td>-1535.173</td>\n",
       "      <td>46</td>\n",
       "    </tr>\n",
       "  </tbody>\n",
       "</table>\n",
       "</div>"
      ],
      "text/plain": [
       "   Time_seconds  SatelliteID           C1C           L1C       D1C  S1C\n",
       "0     15568.004            4  2.183553e+07  1.147465e+08 -2062.373   44\n",
       "1     15568.004            7  2.403299e+07  1.262942e+08  1800.175   46\n",
       "2     15568.004            8  2.177553e+07  1.144312e+08   975.683   46\n",
       "3     15568.004            9  2.159508e+07  1.134829e+08   541.655   49\n",
       "4     15568.004           27  2.263255e+07  1.189348e+08 -1535.173   46"
      ]
     },
     "execution_count": 9,
     "metadata": {},
     "output_type": "execute_result"
    }
   ],
   "source": [
    "import pandas as pd\n",
    "df1 = pd.read_csv(\"data/input.txt\",sep='\\t')\n",
    "df1.head()"
   ]
  },
  {
   "cell_type": "code",
   "execution_count": 11,
   "id": "ba875968",
   "metadata": {},
   "outputs": [
    {
     "data": {
      "text/plain": [
       "array([ 4,  7,  8,  9, 27, 16, 30, 14, 21,  2, 22, 17, 13, 19])"
      ]
     },
     "execution_count": 11,
     "metadata": {},
     "output_type": "execute_result"
    }
   ],
   "source": [
    "df1['SatelliteID'].unique()"
   ]
  },
  {
   "cell_type": "code",
   "execution_count": 12,
   "id": "18aa667d",
   "metadata": {},
   "outputs": [
    {
     "data": {
      "text/plain": [
       "Time_seconds  SatelliteID\n",
       "15568.004     4              2\n",
       "              7              2\n",
       "              8              2\n",
       "              9              2\n",
       "              27             2\n",
       "15569.004     4              2\n",
       "              7              2\n",
       "              8              2\n",
       "              9              2\n",
       "              27             2\n",
       "15570.004     4              2\n",
       "              7              2\n",
       "              8              2\n",
       "              9              2\n",
       "              27             2\n",
       "15571.004     4              2\n",
       "              7              2\n",
       "              8              2\n",
       "              9              2\n",
       "              27             2\n",
       "Name: count, dtype: int64"
      ]
     },
     "execution_count": 12,
     "metadata": {},
     "output_type": "execute_result"
    }
   ],
   "source": [
    "df1.groupby(\"Time_seconds\")[\"SatelliteID\"].value_counts()[:20]"
   ]
  },
  {
   "cell_type": "code",
   "execution_count": 13,
   "id": "7b0aff93",
   "metadata": {},
   "outputs": [
    {
     "data": {
      "text/html": [
       "<div>\n",
       "<style scoped>\n",
       "    .dataframe tbody tr th:only-of-type {\n",
       "        vertical-align: middle;\n",
       "    }\n",
       "\n",
       "    .dataframe tbody tr th {\n",
       "        vertical-align: top;\n",
       "    }\n",
       "\n",
       "    .dataframe thead th {\n",
       "        text-align: right;\n",
       "    }\n",
       "</style>\n",
       "<table border=\"1\" class=\"dataframe\">\n",
       "  <thead>\n",
       "    <tr style=\"text-align: right;\">\n",
       "      <th></th>\n",
       "      <th>SatelliteID</th>\n",
       "      <th>C1C</th>\n",
       "      <th>L1C</th>\n",
       "      <th>D1C</th>\n",
       "      <th>S1C</th>\n",
       "      <th>GPST_seconds</th>\n",
       "    </tr>\n",
       "  </thead>\n",
       "  <tbody>\n",
       "    <tr>\n",
       "      <th>0</th>\n",
       "      <td>4</td>\n",
       "      <td>2.183553e+07</td>\n",
       "      <td>1.147465e+08</td>\n",
       "      <td>-2062.373</td>\n",
       "      <td>44</td>\n",
       "      <td>15568</td>\n",
       "    </tr>\n",
       "    <tr>\n",
       "      <th>1</th>\n",
       "      <td>7</td>\n",
       "      <td>2.403299e+07</td>\n",
       "      <td>1.262942e+08</td>\n",
       "      <td>1800.175</td>\n",
       "      <td>46</td>\n",
       "      <td>15568</td>\n",
       "    </tr>\n",
       "    <tr>\n",
       "      <th>2</th>\n",
       "      <td>8</td>\n",
       "      <td>2.177553e+07</td>\n",
       "      <td>1.144312e+08</td>\n",
       "      <td>975.683</td>\n",
       "      <td>46</td>\n",
       "      <td>15568</td>\n",
       "    </tr>\n",
       "    <tr>\n",
       "      <th>3</th>\n",
       "      <td>9</td>\n",
       "      <td>2.159508e+07</td>\n",
       "      <td>1.134829e+08</td>\n",
       "      <td>541.655</td>\n",
       "      <td>49</td>\n",
       "      <td>15568</td>\n",
       "    </tr>\n",
       "    <tr>\n",
       "      <th>4</th>\n",
       "      <td>27</td>\n",
       "      <td>2.263255e+07</td>\n",
       "      <td>1.189348e+08</td>\n",
       "      <td>-1535.173</td>\n",
       "      <td>46</td>\n",
       "      <td>15568</td>\n",
       "    </tr>\n",
       "  </tbody>\n",
       "</table>\n",
       "</div>"
      ],
      "text/plain": [
       "   SatelliteID           C1C           L1C       D1C  S1C  GPST_seconds\n",
       "0            4  2.183553e+07  1.147465e+08 -2062.373   44         15568\n",
       "1            7  2.403299e+07  1.262942e+08  1800.175   46         15568\n",
       "2            8  2.177553e+07  1.144312e+08   975.683   46         15568\n",
       "3            9  2.159508e+07  1.134829e+08   541.655   49         15568\n",
       "4           27  2.263255e+07  1.189348e+08 -1535.173   46         15568"
      ]
     },
     "execution_count": 13,
     "metadata": {},
     "output_type": "execute_result"
    }
   ],
   "source": [
    "df1[\"GPST_seconds\"] = (df1['Time_seconds'].round()).astype(int)\n",
    "df1.drop('Time_seconds',axis=1,inplace=True)\n",
    "df1.head()"
   ]
  },
  {
   "cell_type": "code",
   "execution_count": 14,
   "id": "03f2e7ce",
   "metadata": {},
   "outputs": [
    {
     "data": {
      "text/plain": [
       "array([17, 16, 15, 14, 13, 12, 11, 10,  9,  8,  7,  5,  1])"
      ]
     },
     "execution_count": 14,
     "metadata": {},
     "output_type": "execute_result"
    }
   ],
   "source": [
    "# checking unique repetation number for GPST_seconds\n",
    "df1[\"GPST_seconds\"].value_counts().unique()"
   ]
  },
  {
   "cell_type": "code",
   "execution_count": 15,
   "id": "7624ffa2",
   "metadata": {},
   "outputs": [
    {
     "name": "stdout",
     "output_type": "stream",
     "text": [
      "<class 'pandas.core.frame.DataFrame'>\n",
      "RangeIndex: 112082 entries, 0 to 112081\n",
      "Data columns (total 6 columns):\n",
      " #   Column        Non-Null Count   Dtype  \n",
      "---  ------        --------------   -----  \n",
      " 0   SatelliteID   112082 non-null  int64  \n",
      " 1   C1C           112082 non-null  float64\n",
      " 2   L1C           95855 non-null   float64\n",
      " 3   D1C           112082 non-null  float64\n",
      " 4   S1C           112082 non-null  int64  \n",
      " 5   GPST_seconds  112082 non-null  int64  \n",
      "dtypes: float64(3), int64(3)\n",
      "memory usage: 5.1 MB\n"
     ]
    }
   ],
   "source": [
    "df1.info()"
   ]
  },
  {
   "cell_type": "code",
   "execution_count": 16,
   "id": "cbe31dc1",
   "metadata": {},
   "outputs": [
    {
     "data": {
      "text/plain": [
       "SatelliteID         0\n",
       "C1C                 0\n",
       "L1C             16227\n",
       "D1C                 0\n",
       "S1C                 0\n",
       "GPST_seconds        0\n",
       "dtype: int64"
      ]
     },
     "execution_count": 16,
     "metadata": {},
     "output_type": "execute_result"
    }
   ],
   "source": [
    "df1.isna().sum()"
   ]
  },
  {
   "cell_type": "code",
   "execution_count": 17,
   "id": "2218b5c7",
   "metadata": {},
   "outputs": [
    {
     "data": {
      "text/plain": [
       "np.float64(14.477793044378224)"
      ]
     },
     "execution_count": 17,
     "metadata": {},
     "output_type": "execute_result"
    }
   ],
   "source": [
    "(df1['L1C'].isna().sum()/len(df1))*100"
   ]
  },
  {
   "cell_type": "markdown",
   "id": "8ce11e2d",
   "metadata": {},
   "source": [
    "# Data Preprocessing\n",
    "## 1) Data handling"
   ]
  },
  {
   "cell_type": "code",
   "execution_count": 24,
   "id": "7ddeea8c",
   "metadata": {},
   "outputs": [
    {
     "data": {
      "text/html": [
       "<div>\n",
       "<style scoped>\n",
       "    .dataframe tbody tr th:only-of-type {\n",
       "        vertical-align: middle;\n",
       "    }\n",
       "\n",
       "    .dataframe tbody tr th {\n",
       "        vertical-align: top;\n",
       "    }\n",
       "\n",
       "    .dataframe thead th {\n",
       "        text-align: right;\n",
       "    }\n",
       "</style>\n",
       "<table border=\"1\" class=\"dataframe\">\n",
       "  <thead>\n",
       "    <tr style=\"text-align: right;\">\n",
       "      <th></th>\n",
       "      <th>0</th>\n",
       "      <th>1</th>\n",
       "      <th>2</th>\n",
       "      <th>3</th>\n",
       "      <th>4</th>\n",
       "      <th>5</th>\n",
       "    </tr>\n",
       "  </thead>\n",
       "  <tbody>\n",
       "    <tr>\n",
       "      <th>0</th>\n",
       "      <td>4.0</td>\n",
       "      <td>2.183553e+07</td>\n",
       "      <td>1.147465e+08</td>\n",
       "      <td>-2062.373</td>\n",
       "      <td>44.0</td>\n",
       "      <td>15568.0</td>\n",
       "    </tr>\n",
       "    <tr>\n",
       "      <th>1</th>\n",
       "      <td>7.0</td>\n",
       "      <td>2.403299e+07</td>\n",
       "      <td>1.262942e+08</td>\n",
       "      <td>1800.175</td>\n",
       "      <td>46.0</td>\n",
       "      <td>15568.0</td>\n",
       "    </tr>\n",
       "    <tr>\n",
       "      <th>2</th>\n",
       "      <td>8.0</td>\n",
       "      <td>2.177553e+07</td>\n",
       "      <td>1.144312e+08</td>\n",
       "      <td>975.683</td>\n",
       "      <td>46.0</td>\n",
       "      <td>15568.0</td>\n",
       "    </tr>\n",
       "    <tr>\n",
       "      <th>3</th>\n",
       "      <td>9.0</td>\n",
       "      <td>2.159508e+07</td>\n",
       "      <td>1.134829e+08</td>\n",
       "      <td>541.655</td>\n",
       "      <td>49.0</td>\n",
       "      <td>15568.0</td>\n",
       "    </tr>\n",
       "    <tr>\n",
       "      <th>4</th>\n",
       "      <td>27.0</td>\n",
       "      <td>2.263255e+07</td>\n",
       "      <td>1.189348e+08</td>\n",
       "      <td>-1535.173</td>\n",
       "      <td>46.0</td>\n",
       "      <td>15568.0</td>\n",
       "    </tr>\n",
       "  </tbody>\n",
       "</table>\n",
       "</div>"
      ],
      "text/plain": [
       "      0             1             2         3     4        5\n",
       "0   4.0  2.183553e+07  1.147465e+08 -2062.373  44.0  15568.0\n",
       "1   7.0  2.403299e+07  1.262942e+08  1800.175  46.0  15568.0\n",
       "2   8.0  2.177553e+07  1.144312e+08   975.683  46.0  15568.0\n",
       "3   9.0  2.159508e+07  1.134829e+08   541.655  49.0  15568.0\n",
       "4  27.0  2.263255e+07  1.189348e+08 -1535.173  46.0  15568.0"
      ]
     },
     "execution_count": 24,
     "metadata": {},
     "output_type": "execute_result"
    }
   ],
   "source": [
    "from sklearn.impute import KNNImputer\n",
    "knn_imputer = KNNImputer(n_neighbors=5)\n",
    "imputed_data = knn_imputer.fit_transform(df1)\n",
    "imputed_df = pd.DataFrame(imputed_data)\n",
    "imputed_df.head()"
   ]
  },
  {
   "cell_type": "code",
   "execution_count": 26,
   "id": "a3955595",
   "metadata": {},
   "outputs": [
    {
     "data": {
      "text/html": [
       "<div>\n",
       "<style scoped>\n",
       "    .dataframe tbody tr th:only-of-type {\n",
       "        vertical-align: middle;\n",
       "    }\n",
       "\n",
       "    .dataframe tbody tr th {\n",
       "        vertical-align: top;\n",
       "    }\n",
       "\n",
       "    .dataframe thead th {\n",
       "        text-align: right;\n",
       "    }\n",
       "</style>\n",
       "<table border=\"1\" class=\"dataframe\">\n",
       "  <thead>\n",
       "    <tr style=\"text-align: right;\">\n",
       "      <th></th>\n",
       "      <th>SatelliteID</th>\n",
       "      <th>C1C</th>\n",
       "      <th>L1C</th>\n",
       "      <th>D1C</th>\n",
       "      <th>S1C</th>\n",
       "      <th>GPST_seconds</th>\n",
       "    </tr>\n",
       "  </thead>\n",
       "  <tbody>\n",
       "    <tr>\n",
       "      <th>0</th>\n",
       "      <td>4.0</td>\n",
       "      <td>2.183553e+07</td>\n",
       "      <td>1.147465e+08</td>\n",
       "      <td>-2062.373</td>\n",
       "      <td>44.0</td>\n",
       "      <td>15568</td>\n",
       "    </tr>\n",
       "    <tr>\n",
       "      <th>1</th>\n",
       "      <td>7.0</td>\n",
       "      <td>2.403299e+07</td>\n",
       "      <td>1.262942e+08</td>\n",
       "      <td>1800.175</td>\n",
       "      <td>46.0</td>\n",
       "      <td>15568</td>\n",
       "    </tr>\n",
       "    <tr>\n",
       "      <th>2</th>\n",
       "      <td>8.0</td>\n",
       "      <td>2.177553e+07</td>\n",
       "      <td>1.144312e+08</td>\n",
       "      <td>975.683</td>\n",
       "      <td>46.0</td>\n",
       "      <td>15568</td>\n",
       "    </tr>\n",
       "    <tr>\n",
       "      <th>3</th>\n",
       "      <td>9.0</td>\n",
       "      <td>2.159508e+07</td>\n",
       "      <td>1.134829e+08</td>\n",
       "      <td>541.655</td>\n",
       "      <td>49.0</td>\n",
       "      <td>15568</td>\n",
       "    </tr>\n",
       "    <tr>\n",
       "      <th>4</th>\n",
       "      <td>27.0</td>\n",
       "      <td>2.263255e+07</td>\n",
       "      <td>1.189348e+08</td>\n",
       "      <td>-1535.173</td>\n",
       "      <td>46.0</td>\n",
       "      <td>15568</td>\n",
       "    </tr>\n",
       "  </tbody>\n",
       "</table>\n",
       "</div>"
      ],
      "text/plain": [
       "   SatelliteID           C1C           L1C       D1C   S1C  GPST_seconds\n",
       "0          4.0  2.183553e+07  1.147465e+08 -2062.373  44.0         15568\n",
       "1          7.0  2.403299e+07  1.262942e+08  1800.175  46.0         15568\n",
       "2          8.0  2.177553e+07  1.144312e+08   975.683  46.0         15568\n",
       "3          9.0  2.159508e+07  1.134829e+08   541.655  49.0         15568\n",
       "4         27.0  2.263255e+07  1.189348e+08 -1535.173  46.0         15568"
      ]
     },
     "execution_count": 26,
     "metadata": {},
     "output_type": "execute_result"
    }
   ],
   "source": [
    "imputed_df.columns = [\"SatelliteID\", \"C1C\", \"L1C\", \"D1C\", \"S1C\", \"GPST_seconds\"]\n",
    "imputed_df['GPST_seconds'] = imputed_df['GPST_seconds'].astype(int)\n",
    "imputed_df.head()"
   ]
  },
  {
   "cell_type": "code",
   "execution_count": 27,
   "id": "27884d81",
   "metadata": {},
   "outputs": [
    {
     "data": {
      "text/plain": [
       "SatelliteID     0\n",
       "C1C             0\n",
       "L1C             0\n",
       "D1C             0\n",
       "S1C             0\n",
       "GPST_seconds    0\n",
       "dtype: int64"
      ]
     },
     "execution_count": 27,
     "metadata": {},
     "output_type": "execute_result"
    }
   ],
   "source": [
    "imputed_df.isna().sum()"
   ]
  },
  {
   "cell_type": "code",
   "execution_count": 28,
   "id": "61dd54c8",
   "metadata": {},
   "outputs": [],
   "source": [
    "imputed_df.to_csv(\"data/input_preprocesed.csv\", index=False)"
   ]
  },
  {
   "cell_type": "markdown",
   "id": "167d0d68",
   "metadata": {},
   "source": [
    "# Perparing Output Data"
   ]
  },
  {
   "cell_type": "code",
   "execution_count": null,
   "id": "e7a43e1f",
   "metadata": {},
   "outputs": [
    {
     "name": "stdout",
     "output_type": "stream",
     "text": [
      "['2024/02/14 04:19:28.00', 27.682077363, 85.319258109, 1274.4728]\n",
      "['2024/02/14 04:19:29.00', 27.682035126, 85.319265362, 1255.8659]\n",
      "['2024/02/14 04:19:30.00', 27.682052033, 85.319250831, 1264.7933]\n",
      "['2024/02/14 04:19:31.00', 27.682024398, 85.319245599, 1249.076]\n",
      "['2024/02/14 04:19:32.00', 27.681998721, 85.31920834, 1265.345]\n"
     ]
    }
   ],
   "source": [
    "def extract_pos_coordinates(filepath, output_csv=None):\n",
    "    extracted_rows = []\n",
    "\n",
    "    with open(filepath, 'r') as f:\n",
    "        for line in f:\n",
    "            line = line.strip()\n",
    "            # Skip metadata and comments\n",
    "            if not line or line.startswith('%'):\n",
    "                continue\n",
    "            # Extract the first 4 comma-separated columns\n",
    "            parts = [p.strip() for p in line.split(',')]\n",
    "            if len(parts) >= 4:\n",
    "                gpst = parts[0]\n",
    "                lat = float(parts[1])\n",
    "                lon = float(parts[2])\n",
    "                height = float(parts[3])\n",
    "                extracted_rows.append([gpst, lat, lon, height])\n",
    "\n",
    "    # Optional: write to CSV\n",
    "    if output_csv:\n",
    "        import csv\n",
    "        with open(output_csv, 'w', newline='') as f_out:\n",
    "            writer = csv.writer(f_out)\n",
    "            writer.writerow(['GPST', 'Latitude', 'Longitude', 'Height'])\n",
    "            writer.writerows(extracted_rows)\n",
    "\n",
    "    return extracted_rows\n",
    "\n",
    "# Example usage\n",
    "pos_file_path = 'F:\\zizo\\RTKCorrection\\data\\output.pos'\n",
    "output = extract_pos_coordinates(pos_file_path, output_csv='data/corrected_positions.csv')\n",
    "\n",
    "# Show a few lines\n",
    "for row in output[:5]:\n",
    "    print(row)\n"
   ]
  },
  {
   "cell_type": "code",
   "execution_count": 30,
   "id": "52483878",
   "metadata": {},
   "outputs": [
    {
     "data": {
      "text/html": [
       "<div>\n",
       "<style scoped>\n",
       "    .dataframe tbody tr th:only-of-type {\n",
       "        vertical-align: middle;\n",
       "    }\n",
       "\n",
       "    .dataframe tbody tr th {\n",
       "        vertical-align: top;\n",
       "    }\n",
       "\n",
       "    .dataframe thead th {\n",
       "        text-align: right;\n",
       "    }\n",
       "</style>\n",
       "<table border=\"1\" class=\"dataframe\">\n",
       "  <thead>\n",
       "    <tr style=\"text-align: right;\">\n",
       "      <th></th>\n",
       "      <th>GPST</th>\n",
       "      <th>Latitude</th>\n",
       "      <th>Longitude</th>\n",
       "      <th>Height</th>\n",
       "    </tr>\n",
       "  </thead>\n",
       "  <tbody>\n",
       "    <tr>\n",
       "      <th>0</th>\n",
       "      <td>2024/02/14 04:19:28.00</td>\n",
       "      <td>27.682077</td>\n",
       "      <td>85.319258</td>\n",
       "      <td>1274.4728</td>\n",
       "    </tr>\n",
       "    <tr>\n",
       "      <th>1</th>\n",
       "      <td>2024/02/14 04:19:29.00</td>\n",
       "      <td>27.682035</td>\n",
       "      <td>85.319265</td>\n",
       "      <td>1255.8659</td>\n",
       "    </tr>\n",
       "    <tr>\n",
       "      <th>2</th>\n",
       "      <td>2024/02/14 04:19:30.00</td>\n",
       "      <td>27.682052</td>\n",
       "      <td>85.319251</td>\n",
       "      <td>1264.7933</td>\n",
       "    </tr>\n",
       "    <tr>\n",
       "      <th>3</th>\n",
       "      <td>2024/02/14 04:19:31.00</td>\n",
       "      <td>27.682024</td>\n",
       "      <td>85.319246</td>\n",
       "      <td>1249.0760</td>\n",
       "    </tr>\n",
       "    <tr>\n",
       "      <th>4</th>\n",
       "      <td>2024/02/14 04:19:32.00</td>\n",
       "      <td>27.681999</td>\n",
       "      <td>85.319208</td>\n",
       "      <td>1265.3450</td>\n",
       "    </tr>\n",
       "  </tbody>\n",
       "</table>\n",
       "</div>"
      ],
      "text/plain": [
       "                     GPST   Latitude  Longitude     Height\n",
       "0  2024/02/14 04:19:28.00  27.682077  85.319258  1274.4728\n",
       "1  2024/02/14 04:19:29.00  27.682035  85.319265  1255.8659\n",
       "2  2024/02/14 04:19:30.00  27.682052  85.319251  1264.7933\n",
       "3  2024/02/14 04:19:31.00  27.682024  85.319246  1249.0760\n",
       "4  2024/02/14 04:19:32.00  27.681999  85.319208  1265.3450"
      ]
     },
     "execution_count": 30,
     "metadata": {},
     "output_type": "execute_result"
    }
   ],
   "source": [
    "df2 = pd.read_csv('corrected_positions.csv')\n",
    "df2.head()"
   ]
  },
  {
   "cell_type": "code",
   "execution_count": 31,
   "id": "b37be08e",
   "metadata": {},
   "outputs": [
    {
     "data": {
      "text/html": [
       "<div>\n",
       "<style scoped>\n",
       "    .dataframe tbody tr th:only-of-type {\n",
       "        vertical-align: middle;\n",
       "    }\n",
       "\n",
       "    .dataframe tbody tr th {\n",
       "        vertical-align: top;\n",
       "    }\n",
       "\n",
       "    .dataframe thead th {\n",
       "        text-align: right;\n",
       "    }\n",
       "</style>\n",
       "<table border=\"1\" class=\"dataframe\">\n",
       "  <thead>\n",
       "    <tr style=\"text-align: right;\">\n",
       "      <th></th>\n",
       "      <th>Latitude</th>\n",
       "      <th>Longitude</th>\n",
       "      <th>Height</th>\n",
       "      <th>GPST_seconds</th>\n",
       "    </tr>\n",
       "  </thead>\n",
       "  <tbody>\n",
       "    <tr>\n",
       "      <th>0</th>\n",
       "      <td>27.682077</td>\n",
       "      <td>85.319258</td>\n",
       "      <td>1274.4728</td>\n",
       "      <td>15568</td>\n",
       "    </tr>\n",
       "    <tr>\n",
       "      <th>1</th>\n",
       "      <td>27.682035</td>\n",
       "      <td>85.319265</td>\n",
       "      <td>1255.8659</td>\n",
       "      <td>15569</td>\n",
       "    </tr>\n",
       "    <tr>\n",
       "      <th>2</th>\n",
       "      <td>27.682052</td>\n",
       "      <td>85.319251</td>\n",
       "      <td>1264.7933</td>\n",
       "      <td>15570</td>\n",
       "    </tr>\n",
       "    <tr>\n",
       "      <th>3</th>\n",
       "      <td>27.682024</td>\n",
       "      <td>85.319246</td>\n",
       "      <td>1249.0760</td>\n",
       "      <td>15571</td>\n",
       "    </tr>\n",
       "    <tr>\n",
       "      <th>4</th>\n",
       "      <td>27.681999</td>\n",
       "      <td>85.319208</td>\n",
       "      <td>1265.3450</td>\n",
       "      <td>15572</td>\n",
       "    </tr>\n",
       "  </tbody>\n",
       "</table>\n",
       "</div>"
      ],
      "text/plain": [
       "    Latitude  Longitude     Height  GPST_seconds\n",
       "0  27.682077  85.319258  1274.4728         15568\n",
       "1  27.682035  85.319265  1255.8659         15569\n",
       "2  27.682052  85.319251  1264.7933         15570\n",
       "3  27.682024  85.319246  1249.0760         15571\n",
       "4  27.681999  85.319208  1265.3450         15572"
      ]
     },
     "execution_count": 31,
     "metadata": {},
     "output_type": "execute_result"
    }
   ],
   "source": [
    "df2['GPST_seconds'] = pd.to_datetime(df2['GPST']).dt.hour * 3600 + \\\n",
    "                     pd.to_datetime(df2['GPST']).dt.minute * 60 + \\\n",
    "                     pd.to_datetime(df2['GPST']).dt.second\n",
    "\n",
    "df2.drop('GPST', axis=1, inplace=True)\n",
    "df2.head()"
   ]
  },
  {
   "cell_type": "code",
   "execution_count": 32,
   "id": "5decfc3b",
   "metadata": {},
   "outputs": [
    {
     "name": "stdout",
     "output_type": "stream",
     "text": [
      "<class 'pandas.core.frame.DataFrame'>\n",
      "RangeIndex: 7891 entries, 0 to 7890\n",
      "Data columns (total 4 columns):\n",
      " #   Column        Non-Null Count  Dtype  \n",
      "---  ------        --------------  -----  \n",
      " 0   Latitude      7891 non-null   float64\n",
      " 1   Longitude     7891 non-null   float64\n",
      " 2   Height        7891 non-null   float64\n",
      " 3   GPST_seconds  7891 non-null   int32  \n",
      "dtypes: float64(3), int32(1)\n",
      "memory usage: 215.9 KB\n"
     ]
    }
   ],
   "source": [
    "df2.info()"
   ]
  },
  {
   "cell_type": "code",
   "execution_count": null,
   "id": "7343e733",
   "metadata": {},
   "outputs": [],
   "source": []
  }
 ],
 "metadata": {
  "kernelspec": {
   "display_name": "Python 3",
   "language": "python",
   "name": "python3"
  },
  "language_info": {
   "codemirror_mode": {
    "name": "ipython",
    "version": 3
   },
   "file_extension": ".py",
   "mimetype": "text/x-python",
   "name": "python",
   "nbconvert_exporter": "python",
   "pygments_lexer": "ipython3",
   "version": "3.10.18"
  }
 },
 "nbformat": 4,
 "nbformat_minor": 5
}
